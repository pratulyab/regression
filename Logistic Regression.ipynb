{
 "cells": [
  {
   "cell_type": "code",
   "execution_count": 1,
   "metadata": {},
   "outputs": [],
   "source": [
    "import numpy as np\n",
    "import matplotlib.pyplot as plt\n",
    "import pandas as pd"
   ]
  },
  {
   "cell_type": "code",
   "execution_count": 2,
   "metadata": {},
   "outputs": [
    {
     "name": "stdout",
     "output_type": "stream",
     "text": [
      "(500, 2)\n",
      "(500, 2)\n"
     ]
    }
   ],
   "source": [
    "mean_01 = np.array([1,0.5])\n",
    "cov_01 = np.array([[1,0.1],[0.1,1.2]])\n",
    "\n",
    "mean_02 = np.array([4,5])\n",
    "cov_02 = np.array([[1.21,0.1],[0.1,1.3]])\n",
    "\n",
    "\n",
    "# Normal Distribution\n",
    "dist_01 = np.random.multivariate_normal(mean_01,cov_01,500)\n",
    "dist_02 = np.random.multivariate_normal(mean_02,cov_02,500)\n",
    "\n",
    "print(dist_01.shape)\n",
    "print(dist_02.shape)"
   ]
  },
  {
   "cell_type": "code",
   "execution_count": 3,
   "metadata": {},
   "outputs": [
    {
     "data": {
      "image/png": "[encoded data removed]",
      "text/plain": [
       "<Figure size 432x288 with 1 Axes>"
      ]
     },
     "metadata": {
      "needs_background": "light"
     },
     "output_type": "display_data"
    }
   ],
   "source": [
    "plt.figure(0)\n",
    "\n",
    "plt.scatter(dist_01[:,0],dist_01[:,1],label='Class 0')\n",
    "plt.scatter(dist_02[:,0],dist_02[:,1],color='r',marker='^',label='Class 1')\n",
    "plt.xlim(-5,10)\n",
    "plt.ylim(-5,10)\n",
    "plt.xlabel('x1')\n",
    "plt.ylabel('x2')\n",
    "plt.legend()\n",
    "plt.show()"
   ]
  },
  {
   "cell_type": "code",
   "execution_count": 4,
   "metadata": {},
   "outputs": [
    {
     "name": "stdout",
     "output_type": "stream",
     "text": [
      "(1000, 3)\n"
     ]
    }
   ],
   "source": [
    "data = np.zeros((1000,3))\n",
    "print(data.shape)\n"
   ]
  },
  {
   "cell_type": "code",
   "execution_count": 5,
   "metadata": {},
   "outputs": [],
   "source": [
    "data[:500,:2] = dist_01\n",
    "data[500:,:2] = dist_02\n",
    "data[500:,-1] = 1.0"
   ]
  },
  {
   "cell_type": "code",
   "execution_count": 6,
   "metadata": {},
   "outputs": [
    {
     "name": "stdout",
     "output_type": "stream",
     "text": [
      "[[ 0.36267162  0.4615468   0.        ]\n",
      " [ 3.62677044  5.73209448  1.        ]\n",
      " [ 3.45862349 -2.42917663  0.        ]\n",
      " [ 1.37809576 -1.1301177   0.        ]\n",
      " [ 1.66333365  0.4536121   0.        ]\n",
      " [ 4.70105128  3.43085998  1.        ]\n",
      " [-0.33610928  0.09486235  0.        ]\n",
      " [ 2.39148564  0.25222512  0.        ]\n",
      " [ 1.75755318  3.00360926  1.        ]\n",
      " [ 4.54391721  6.45161096  1.        ]]\n"
     ]
    }
   ],
   "source": [
    "np.random.shuffle(data)\n",
    "print(data[:10])\n"
   ]
  },
  {
   "cell_type": "code",
   "execution_count": 7,
   "metadata": {},
   "outputs": [],
   "source": [
    "split = int(0.8*data.shape[0])\n"
   ]
  },
  {
   "cell_type": "code",
   "execution_count": 8,
   "metadata": {},
   "outputs": [
    {
     "name": "stdout",
     "output_type": "stream",
     "text": [
      "(800, 2) (200, 2)\n",
      "(800,) (200,)\n"
     ]
    }
   ],
   "source": [
    "X_train = data[:split,:-1]\n",
    "X_test = data[split:,:-1]\n",
    "\n",
    "Y_train = data[:split,-1]\n",
    "Y_test  = data[split:,-1]\n",
    "\n",
    "print(X_train.shape,X_test.shape)\n",
    "print(Y_train.shape,Y_test.shape)\n"
   ]
  },
  {
   "cell_type": "markdown",
   "metadata": {},
   "source": [
    "# Logistic Regression"
   ]
  },
  {
   "cell_type": "code",
   "execution_count": 67,
   "metadata": {},
   "outputs": [],
   "source": [
    "class LogisticRegression:\n",
    "    def __init__(self, X, y):\n",
    "        self.X = X\n",
    "        self.y = y\n",
    "        self.N, self.dim = self.X.shape\n",
    "        self.coef = np.random.uniform(low=-1, high=1, size=(self.dim))\n",
    "        self.intercept = np.random.random()\n",
    "        \n",
    "    def sigmoid(self, z):\n",
    "        return 1 / (1 + np.exp(-z))\n",
    "        \n",
    "    def hypothesis(self, x):\n",
    "        return self.sigmoid(self.coef.dot(x) + self.intercept)\n",
    "    \n",
    "    def apply_gradient_descent(self, learning_rate=0.1):\n",
    "        gradients = np.zeros_like(self.coef)\n",
    "        grad_00 = 0\n",
    "        \n",
    "        # Get predictions\n",
    "        yhat = []\n",
    "        for x in self.X:\n",
    "            yhat.append(self.predict(x))\n",
    "        yhat = np.array(yhat)\n",
    "        \n",
    "        # Compute Gradients\n",
    "        for j in range(self.dim):\n",
    "            grad = (yhat - self.y) * (self.X[:, j])\n",
    "            gradients[j] = grad.sum() / self.N\n",
    "            \n",
    "        grad_00 = (yhat - self.y).sum() / self.N\n",
    "            \n",
    "        # Update Weights\n",
    "        self.coef = self.coef - (learning_rate * gradients)\n",
    "        self.intercept = self.intercept - (learning_rate * grad_00)\n",
    "    \n",
    "    def compute_loss(self):\n",
    "        # ylog(hx) + (1-y)log(1-hx)\n",
    "        error = 0\n",
    "        for i in range(self.N):\n",
    "            error += (self.y[i] * np.log2(self.hypothesis(self.X[i]) + 1e-03)) + ((1-self.y[i]) * (np.log2(1 - self.hypothesis(self.X[i]) + 1e-03)))\n",
    "        error = -error / self.N\n",
    "        return error\n",
    "    \n",
    "    def predict(self, x):\n",
    "        confidence = self.hypothesis(x)\n",
    "        if confidence < 0.5:\n",
    "            return 0\n",
    "        else:\n",
    "            return 1\n",
    "        \n",
    "    def run(self, losses, iterations=1):\n",
    "        for _ in range(iterations):\n",
    "            losses.append(self.compute_loss())\n",
    "            self.apply_gradient_descent()\n",
    "        print(losses[:-10])\n",
    "        return losses"
   ]
  },
  {
   "cell_type": "code",
   "execution_count": 15,
   "metadata": {},
   "outputs": [],
   "source": [
    "log_reg = LogisticRegression(X_train, Y_train)"
   ]
  },
  {
   "cell_type": "code",
   "execution_count": 16,
   "metadata": {},
   "outputs": [],
   "source": [
    "losses = [log_reg.compute_loss()]"
   ]
  },
  {
   "cell_type": "code",
   "execution_count": 19,
   "metadata": {},
   "outputs": [
    {
     "name": "stdout",
     "output_type": "stream",
     "text": [
      "[1.673064104191961, 1.673064104191961, 1.3821051422774722, 1.2893967931575825, 1.228725149946306, 1.185090259147999, 1.1463771098331312, 1.111874901877731, 1.0788422477147646, 1.0475543515091994, 1.0181612333489334, 0.9900905695702517, 0.9638664522116598, 0.943696592114317, 0.920579494008775, 0.9024793345489401, 0.8842653578824705, 0.8680447913990957, 0.8524188679252753, 0.8392201911459809, 0.830435087807257, 0.8233673954685687, 0.8140688217876086, 0.8083184993058896, 0.8010727800855758, 0.7995129041617907, 0.7973499224924493, 0.7924358498827166, 0.7887660831209148, 0.7856513565014441, 0.7831686767373687, 0.781295761848102, 0.7806175601939301, 0.7785051907978032, 0.7765904802502201, 0.7756688027190906, 0.7758513956019342, 0.7753426967511361, 0.7753918505785873, 0.7748494324974716, 0.7743106569726428, 0.7737755242613129, 0.7726992786966731, 0.7708205384838966, 0.7689511227070907, 0.767782769195926, 0.7666182796896155, 0.7654576511725629, 0.7643008805719457, 0.764164473446473, 0.7635673920717652, 0.7629716454271231, 0.7631732726919328, 0.7629161219773016, 0.7626595524849142, 0.761879102934586, 0.7611004043917631, 0.7603234557480454, 0.7595482558849898, 0.7587748036741472, 0.7580030979770922, 0.7572331376454692, 0.7564649215210075, 0.7556984484355741, 0.754933717211199, 0.7550561550499961, 0.7551789689950121, 0.7547717855075881, 0.7550844182718872, 0.7546773531319245, 0.7549901381088986, 0.7553034890186469, 0.7548961285077922, 0.7552096317413813, 0.7555237012015503, 0.7551160450775855, 0.7554302669718332, 0.7557450553849031, 0.7553371034063133, 0.7556520443627747, 0.7559675521287396, 0.7562836269345294, 0.755874964472439, 0.7561911919887843, 0.7565079868330166, 0.7560990278547475, 0.7564159755164556, 0.7567334907925263, 0.7563242350593109, 0.7566419032588353, 0.7569601393576167, 0.7565505866314016, 0.7568689757586681, 0.757187933068495, 0.756778083111942, 0.7570971935543379, 0.7574168724609998, 0.7570067250374926, 0.7573265571798558, 0.7576469580665876, 0.7579679279208473, 0.757557067164849, 0.7578781904123214, 0.758199882904738, 0.7577887240345419, 0.7581105700208538, 0.7584329855279077, 0.7580215283097435, 0.7583440974104129, 0.758667236305995, 0.7582554805068338]\n"
     ]
    }
   ],
   "source": [
    "losses = log_reg.run(losses, 100)"
   ]
  },
  {
   "cell_type": "code",
   "execution_count": 20,
   "metadata": {},
   "outputs": [
    {
     "data": {
      "image/png": "[encoded data removed]",
      "text/plain": [
       "<Figure size 432x288 with 1 Axes>"
      ]
     },
     "metadata": {
      "needs_background": "light"
     },
     "output_type": "display_data"
    }
   ],
   "source": [
    "plt.figure()\n",
    "plt.plot(losses)\n",
    "plt.show()"
   ]
  },
  {
   "cell_type": "code",
   "execution_count": 21,
   "metadata": {},
   "outputs": [
    {
     "data": {
      "text/plain": [
       "(200,)"
      ]
     },
     "execution_count": 21,
     "metadata": {},
     "output_type": "execute_result"
    }
   ],
   "source": [
    "predictions = []\n",
    "for x in X_test:\n",
    "    predictions.append(log_reg.predict(x))\n",
    "predictions = np.array(predictions)\n",
    "predictions.shape"
   ]
  },
  {
   "cell_type": "code",
   "execution_count": 27,
   "metadata": {},
   "outputs": [
    {
     "data": {
      "text/plain": [
       "array([0., 0., 1., 0., 1., 0., 1., 0., 0., 0., 0., 0., 1., 0., 1., 1., 1.,\n",
       "       1., 1., 0., 0., 1., 0., 0., 0., 1., 1., 1., 0., 1., 1., 1., 0., 0.,\n",
       "       1., 1., 1., 1., 0., 0., 1., 0., 0., 1., 0., 1., 0., 1., 0., 0., 0.,\n",
       "       1., 1., 1., 1., 1., 1., 1., 0., 1., 0., 1., 1., 1., 1., 0., 0., 1.,\n",
       "       0., 0., 0., 1., 0., 1., 1., 0., 0., 1., 0., 0., 1., 1., 1., 0., 1.,\n",
       "       1., 1., 1., 0., 0., 0., 1., 0., 1., 0., 1., 1., 1., 0., 1., 1., 0.,\n",
       "       0., 0., 1., 1., 1., 0., 0., 0., 0., 1., 0., 1., 1., 1., 1., 1., 1.,\n",
       "       0., 1., 1., 0., 0., 0., 0., 0., 0., 1., 1., 1., 0., 0., 0., 1., 1.,\n",
       "       1., 1., 0., 0., 1., 0., 0., 0., 0., 1., 1., 0., 1., 1., 1., 1., 1.,\n",
       "       1., 1., 0., 0., 0., 1., 0., 0., 0., 1., 1., 1., 1., 1., 0., 0., 0.,\n",
       "       1., 1., 1., 0., 0., 1., 1., 0., 0., 1., 1., 1., 1., 0., 1., 0., 0.,\n",
       "       1., 1., 0., 0., 1., 1., 1., 0., 1., 0., 0., 0., 1.])"
      ]
     },
     "execution_count": 27,
     "metadata": {},
     "output_type": "execute_result"
    }
   ],
   "source": []
  },
  {
   "cell_type": "code",
   "execution_count": 28,
   "metadata": {},
   "outputs": [
    {
     "name": "stdout",
     "output_type": "stream",
     "text": [
      "Accuracy: 0.985\n"
     ]
    }
   ],
   "source": [
    "print(\"Accuracy:\", (predictions == Y_test).sum()/Y_test.shape[0])"
   ]
  },
  {
   "cell_type": "code",
   "execution_count": 30,
   "metadata": {},
   "outputs": [
    {
     "data": {
      "text/plain": [
       "array([0.11252758, 0.08872968])"
      ]
     },
     "execution_count": 30,
     "metadata": {},
     "output_type": "execute_result"
    }
   ],
   "source": [
    "log_reg.coef"
   ]
  },
  {
   "cell_type": "code",
   "execution_count": 34,
   "metadata": {},
   "outputs": [
    {
     "data": {
      "image/png": "[encoded data removed]",
      "text/plain": [
       "<Figure size 432x288 with 1 Axes>"
      ]
     },
     "metadata": {
      "needs_background": "light"
     },
     "output_type": "display_data"
    }
   ],
   "source": [
    "plt.figure()\n",
    "plt.scatter(dist_01[:,0],dist_01[:,1],label='Class 0')\n",
    "plt.scatter(dist_02[:,0],dist_02[:,1],color='r',marker='^',label='Class 1')\n",
    "plt.xlim(-5,10)\n",
    "plt.ylim(-5,10)\n",
    "plt.xlabel('x1')\n",
    "plt.ylabel('x2')\n",
    "x = np.linspace(-4,8,2)\n",
    "y = -(log_reg.coef[0]*x + log_reg.intercept)/log_reg.coef[1]\n",
    "plt.plot(x,y,color='k')\n",
    "plt.show()"
   ]
  },
  {
   "cell_type": "markdown",
   "metadata": {},
   "source": [
    "# SKLearn"
   ]
  },
  {
   "cell_type": "code",
   "execution_count": 37,
   "metadata": {},
   "outputs": [],
   "source": [
    "from sklearn.linear_model import LogisticRegression as SKLogisticRegression\n",
    "from sklearn.datasets import load_breast_cancer\n",
    "from sklearn.model_selection import train_test_split"
   ]
  },
  {
   "cell_type": "code",
   "execution_count": 38,
   "metadata": {},
   "outputs": [],
   "source": [
    "ds = load_breast_cancer()\n",
    "sk_logreg = SKLogisticRegression()"
   ]
  },
  {
   "cell_type": "code",
   "execution_count": 39,
   "metadata": {},
   "outputs": [],
   "source": [
    "X_tr, X_ts, y_tr, y_ts = train_test_split(ds.data, ds.target, test_size=0.2)"
   ]
  },
  {
   "cell_type": "code",
   "execution_count": 41,
   "metadata": {},
   "outputs": [
    {
     "name": "stderr",
     "output_type": "stream",
     "text": [
      "/Users/Pratulya/Desktop/codingblocks/ml-dwarka/venv/lib/python3.7/site-packages/sklearn/linear_model/logistic.py:433: FutureWarning: Default solver will be changed to 'lbfgs' in 0.22. Specify a solver to silence this warning.\n",
      "  FutureWarning)\n"
     ]
    },
    {
     "data": {
      "text/plain": [
       "LogisticRegression(C=1.0, class_weight=None, dual=False, fit_intercept=True,\n",
       "          intercept_scaling=1, max_iter=100, multi_class='warn',\n",
       "          n_jobs=None, penalty='l2', random_state=None, solver='warn',\n",
       "          tol=0.0001, verbose=0, warm_start=False)"
      ]
     },
     "execution_count": 41,
     "metadata": {},
     "output_type": "execute_result"
    }
   ],
   "source": [
    "sk_logreg.fit(X_tr, y_tr)"
   ]
  },
  {
   "cell_type": "code",
   "execution_count": 44,
   "metadata": {},
   "outputs": [
    {
     "data": {
      "text/plain": [
       "0.9649122807017544"
      ]
     },
     "execution_count": 44,
     "metadata": {},
     "output_type": "execute_result"
    }
   ],
   "source": [
    "(sk_logreg.predict(X_ts) == y_ts).sum() / y_ts.shape[0]"
   ]
  },
  {
   "cell_type": "code",
   "execution_count": 68,
   "metadata": {},
   "outputs": [],
   "source": [
    "X_tr = (X_tr - X_tr.mean(axis=0)) / X_tr.std(axis=0)\n",
    "X_ts = (X_ts - X_ts.mean(axis=0)) / X_ts.std(axis=0)\n",
    "lr = LogisticRegression(X_tr, y_tr)\n",
    "losses = [log_reg.compute_loss()]"
   ]
  },
  {
   "cell_type": "code",
   "execution_count": 72,
   "metadata": {},
   "outputs": [
    {
     "name": "stdout",
     "output_type": "stream",
     "text": [
      "[0.7596157311244142, 2.1423511322160715, 1.6477383886030044, 1.3083145884397527, 1.1037433758588524, 0.9556171533798372, 0.8473199802960567, 0.7698142812941976, 0.7163060555278231, 0.672839913965198, 0.6367863569054253, 0.6055663332889449, 0.5778419712457626, 0.5540395307954462, 0.5326661125121285, 0.5130307725924598, 0.49642437827217345, 0.482222232413796, 0.46852546400093265, 0.45571539164138664, 0.44544639470551295, 0.4361046914641251, 0.42729418756202775, 0.41889535158465796, 0.4107168123791168, 0.40326395323535863, 0.39599716794380546, 0.38981947122362753, 0.3837802702694102, 0.37856531175712965, 0.37345805928586856, 0.36870885406092824, 0.3641469566129051, 0.3596741347303273, 0.3561751844456523, 0.35292529433564784, 0.349960033432021, 0.34699000484686826, 0.34406320865785756, 0.34125830904121973, 0.33849385237644547, 0.33594322653855974, 0.33342805229378375, 0.33105825201038325, 0.32880466658512864, 0.32673182821974406, 0.3245348418116971, 0.32251665195896145, 0.3205253583546473, 0.31856084183388983, 0.31647425374336946, 0.31456337457998884, 0.31267890107012997, 0.3108176374356399, 0.3091661537059368, 0.3073572695114351, 0.3057137989413194, 0.30408946446519663, 0.3024841921662666, 0.3008979072989724, 0.29933053422841016, 0.2977819963638832, 0.29625221608782026, 0.29483117322847174, 0.2934235363046424, 0.292032352864266, 0.2906575538049736, 0.2892990689907936, 0.2878173443426335, 0.28661425650167777, 0.28542552162289453, 0.2842510865666799, 0.28309089675859506, 0.28180700150913546, 0.28067530453259004, 0.279557675580312, 0.27859714162487753, 0.277721355665564, 0.2768529862143619, 0.2760185583312399, 0.2751912737108089, 0.27437110698674283, 0.273558032788392, 0.2727520257435871, 0.2722065904619449, 0.2713711712288502, 0.2708694361465803, 0.2701260892335271, 0.26965670576853423, 0.268935952448425, 0.2684729638991895]\n"
     ]
    }
   ],
   "source": [
    "losses = lr.run(losses, 50)"
   ]
  },
  {
   "cell_type": "code",
   "execution_count": 73,
   "metadata": {},
   "outputs": [
    {
     "data": {
      "image/png": "[encoded data removed]",
      "text/plain": [
       "<Figure size 432x288 with 1 Axes>"
      ]
     },
     "metadata": {
      "needs_background": "light"
     },
     "output_type": "display_data"
    }
   ],
   "source": [
    "plt.figure()\n",
    "plt.plot(losses)\n",
    "plt.show()"
   ]
  },
  {
   "cell_type": "code",
   "execution_count": 74,
   "metadata": {},
   "outputs": [
    {
     "name": "stdout",
     "output_type": "stream",
     "text": [
      "Accuracy: 0.9736842105263158\n"
     ]
    }
   ],
   "source": [
    "predictions = []\n",
    "for x in X_ts:\n",
    "    predictions.append(lr.predict(x))\n",
    "predictions = np.array(predictions)\n",
    "print(\"Accuracy:\", (predictions == y_ts).sum()/y_ts.shape[0])"
   ]
  },
  {
   "cell_type": "code",
   "execution_count": null,
   "metadata": {},
   "outputs": [],
   "source": []
  }
 ],
 "metadata": {
  "kernelspec": {
   "display_name": "Python 3",
   "language": "python",
   "name": "python3"
  },
  "language_info": {
   "codemirror_mode": {
    "name": "ipython",
    "version": 3
   },
   "file_extension": ".py",
   "mimetype": "text/x-python",
   "name": "python",
   "nbconvert_exporter": "python",
   "pygments_lexer": "ipython3",
   "version": "3.7.0"
  }
 },
 "nbformat": 4,
 "nbformat_minor": 2
}
