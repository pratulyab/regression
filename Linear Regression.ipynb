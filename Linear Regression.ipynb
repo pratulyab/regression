{
 "cells": [
  {
   "cell_type": "code",
   "execution_count": 2,
   "metadata": {},
   "outputs": [],
   "source": [
    "import numpy as np\n",
    "import matplotlib.pyplot as plt\n",
    "from sklearn.datasets import make_regression\n",
    "import seaborn as sns"
   ]
  },
  {
   "cell_type": "code",
   "execution_count": 3,
   "metadata": {},
   "outputs": [
    {
     "name": "stdout",
     "output_type": "stream",
     "text": [
      "(500, 1) (500,) 84.56175384970128\n"
     ]
    }
   ],
   "source": [
    "X, y, cof = make_regression(n_samples=500, n_features=1, bias=4.2, noise=5.1, coef=True)\n",
    "print(X.shape, y.shape, cof)"
   ]
  },
  {
   "cell_type": "code",
   "execution_count": 4,
   "metadata": {},
   "outputs": [
    {
     "data": {
      "image/png": "[encoded data removed]",
      "text/plain": [
       "<Figure size 432x288 with 1 Axes>"
      ]
     },
     "metadata": {
      "needs_background": "light"
     },
     "output_type": "display_data"
    }
   ],
   "source": [
    "plt.figure()\n",
    "plt.scatter(X, y)\n",
    "plt.show()"
   ]
  },
  {
   "cell_type": "code",
   "execution_count": 5,
   "metadata": {},
   "outputs": [],
   "source": [
    "class LinearRegression:\n",
    "    def __init__(self, X, y):\n",
    "        self.X = X\n",
    "        self.y = y\n",
    "        self.coef = np.random.uniform(low=-1, high=1)\n",
    "        self.bias = np.random.random()\n",
    "        \n",
    "    def hypothesis(self, x):\n",
    "        return self.coef * x + self.bias\n",
    "    \n",
    "    def gradient_descent(self, lr=0.1):\n",
    "        dw1 = 0\n",
    "        dw0 = 0\n",
    "        n = self.X.shape[0]\n",
    "        for x,y in zip(self.X, self.y):\n",
    "            pred = self.hypothesis(x)\n",
    "            dw1 += (pred - y) * x\n",
    "            dw0 += (pred - y)\n",
    "        dw1 /= n\n",
    "        dw0 /= n\n",
    "        \n",
    "        self.coef = self.coef - lr * dw1\n",
    "        self.bias = self.bias - lr * dw0\n",
    "        \n",
    "    def loss(self):\n",
    "        losses = []\n",
    "        for x,y in zip(self.X, self.y):\n",
    "            losses.append((y - self.hypothesis(x)) ** 2)\n",
    "        losses = np.array(losses)\n",
    "        return losses.sum() / (2 * len(losses))\n",
    "    \n",
    "    def run(self, losses, epoch=2):\n",
    "        for _ in range(epoch):\n",
    "            self.gradient_descent()\n",
    "            losses.append(self.loss())\n",
    "        plt.figure()\n",
    "        plt.plot(losses)\n",
    "        plt.show()\n",
    "        \n",
    "        yhat = []\n",
    "        for x in X:\n",
    "            yhat.append(lr.hypothesis(x))\n",
    "        plt.figure()\n",
    "        plt.scatter(X, y)\n",
    "        yhat = np.array(yhat)\n",
    "        plt.plot(X, yhat, 'r')\n",
    "        plt.show()\n",
    "        return losses"
   ]
  },
  {
   "cell_type": "code",
   "execution_count": 6,
   "metadata": {},
   "outputs": [],
   "source": [
    "lr  = LinearRegression(X, y)"
   ]
  },
  {
   "cell_type": "code",
   "execution_count": 7,
   "metadata": {},
   "outputs": [],
   "source": [
    "losses = [lr.loss()]"
   ]
  },
  {
   "cell_type": "code",
   "execution_count": 8,
   "metadata": {},
   "outputs": [
    {
     "data": {
      "image/png": "[encoded data removed]",
      "text/plain": [
       "<Figure size 432x288 with 1 Axes>"
      ]
     },
     "metadata": {
      "needs_background": "light"
     },
     "output_type": "display_data"
    },
    {
     "data": {
      "image/png": "[encoded data removed]",
      "text/plain": [
       "<Figure size 432x288 with 1 Axes>"
      ]
     },
     "metadata": {
      "needs_background": "light"
     },
     "output_type": "display_data"
    }
   ],
   "source": [
    "losses = lr.run(losses, 10)"
   ]
  },
  {
   "cell_type": "code",
   "execution_count": 279,
   "metadata": {},
   "outputs": [],
   "source": [
    "class MultiVariateLinearRegression:\n",
    "    def __init__(self, X, y):\n",
    "        self.X = X#(X - X.mean(axis=0)) / X.std(axis=0)\n",
    "        self.y = y\n",
    "        self.N, self.dim = self.X.shape[0], self.X.shape[1]\n",
    "        self.coef = np.random.uniform(low=-1, high=1, size=(self.dim,))\n",
    "        self.bias = np.random.random()\n",
    "        \n",
    "    def hypothesis(self, x):\n",
    "        return (self.coef.dot(x) + self.bias)\n",
    "    \n",
    "    def get_predictions(self, test):\n",
    "        preds = []\n",
    "        for t in test:\n",
    "            preds.append(self.hypothesis(t))\n",
    "        preds = np.array(preds)\n",
    "        return preds\n",
    "    \n",
    "    def gradient_descent(self, lr=0.01):\n",
    "#         gradients = np.zeros((self.X.shape))\n",
    "        gradients = np.zeros_like(self.coef)\n",
    "        intercept = 0\n",
    "        yhat = self.get_predictions(self.X)\n",
    "        '''\n",
    "        for j in range(self.dim):\n",
    "            for i in range(self.N):\n",
    "#                 yhat = self.hypothesis(self.X[i].reshape((-1,1)))\n",
    "#                 gradients[i,j] = (yhat - self.y[i]) * self.X[i,j]\n",
    "                gradients[i,j] = (yhat[i] - self.y[i]) * self.X[i,j]\n",
    "        '''        \n",
    "#         for i in range(self.N):\n",
    "#             yhat = self.hypothesis(self.X[i].reshape((-1,1)))\n",
    "#             intercept += (yhat - self.y[i])\n",
    "#             intercept += (yhat[i] - self.y[i])\n",
    "        intercept = (yhat - self.y).sum() / self.N\n",
    "        \n",
    "        \n",
    "        for j in range(self.dim):\n",
    "            gradients[j] = ((yhat - self.y) * self.X[:, j]).sum() / self.N\n",
    "#             gradients[j] = ((yhat.reshape((-1,1)) - self.y.reshape((-1,1))) * self.X[:, j]).sum() / self.N\n",
    "            \n",
    "#         gradients = gradients.sum(axis=0).reshape((-1,1))\n",
    "#         intercept = intercept[0]    \n",
    "\n",
    "        \n",
    "        self.coef = self.coef - (lr * gradients)\n",
    "        self.bias = self.bias - (lr * intercept)\n",
    "    \n",
    "        \n",
    "    def loss(self):\n",
    "        yhat = self.get_predictions(self.X)\n",
    "        loss = ((self.y - yhat)**2).sum()/(2*self.N)\n",
    "        return loss\n",
    "    \n",
    "    def run(self, losses, epoch=2):\n",
    "        print(self.coef)\n",
    "        print(self.bias)\n",
    "        for _ in range(epoch):\n",
    "            self.gradient_descent()\n",
    "            losses.append(self.loss())\n",
    "        plt.figure()\n",
    "        plt.plot(losses)\n",
    "        plt.show()\n",
    "        \n",
    "        return losses"
   ]
  },
  {
   "cell_type": "code",
   "execution_count": 280,
   "metadata": {},
   "outputs": [
    {
     "data": {
      "text/plain": [
       "(404,)"
      ]
     },
     "execution_count": 280,
     "metadata": {},
     "output_type": "execute_result"
    }
   ],
   "source": [
    "m = MultiVariateLinearRegression(X_train, y_train)\n",
    "yhat = m.get_predictions(X_train)\n",
    "yhat.shape\n"
   ]
  },
  {
   "cell_type": "code",
   "execution_count": 281,
   "metadata": {},
   "outputs": [],
   "source": [
    "from sklearn.datasets import load_boston\n",
    "from sklearn.model_selection import train_test_split\n",
    "boston = load_boston()"
   ]
  },
  {
   "cell_type": "code",
   "execution_count": 282,
   "metadata": {},
   "outputs": [
    {
     "name": "stdout",
     "output_type": "stream",
     "text": [
      "(404, 13) (102, 13) (404,) (102,)\n"
     ]
    }
   ],
   "source": [
    "X_train, X_test, y_train, y_test = train_test_split(boston.data, boston.target, test_size=0.2)\n",
    "print(X_train.shape, X_test.shape, y_train.shape, y_test.shape)"
   ]
  },
  {
   "cell_type": "code",
   "execution_count": 283,
   "metadata": {},
   "outputs": [],
   "source": [
    "from sklearn.linear_model import LinearRegression as SKLinearRegression\n",
    "\n",
    "sk_linreg = SKLinearRegression()"
   ]
  },
  {
   "cell_type": "code",
   "execution_count": 284,
   "metadata": {},
   "outputs": [
    {
     "data": {
      "text/plain": [
       "LinearRegression(copy_X=True, fit_intercept=True, n_jobs=None,\n",
       "         normalize=False)"
      ]
     },
     "execution_count": 284,
     "metadata": {},
     "output_type": "execute_result"
    }
   ],
   "source": [
    "sk_linreg.fit(X_train, y_train)"
   ]
  },
  {
   "cell_type": "code",
   "execution_count": 285,
   "metadata": {},
   "outputs": [],
   "source": [
    "# for i in range(X_train.shape[0]):\n",
    "#     print(sk_linreg.predict(X_train)[i], mvlr.get_predictions(X_train)[i])"
   ]
  },
  {
   "cell_type": "code",
   "execution_count": 286,
   "metadata": {},
   "outputs": [
    {
     "data": {
      "text/plain": [
       "0.7312808366842549"
      ]
     },
     "execution_count": 286,
     "metadata": {},
     "output_type": "execute_result"
    }
   ],
   "source": [
    "sk_linreg.score(X_train, y_train)"
   ]
  },
  {
   "cell_type": "code",
   "execution_count": 287,
   "metadata": {},
   "outputs": [
    {
     "data": {
      "text/plain": [
       "0.7611762693246964"
      ]
     },
     "execution_count": 287,
     "metadata": {},
     "output_type": "execute_result"
    }
   ],
   "source": [
    "sk_linreg.score(X_test, y_test)"
   ]
  },
  {
   "cell_type": "code",
   "execution_count": 288,
   "metadata": {},
   "outputs": [
    {
     "name": "stdout",
     "output_type": "stream",
     "text": [
      "0.6963856944140265\n",
      "0.10049667001152238\n"
     ]
    }
   ],
   "source": [
    "from sklearn.model_selection import cross_val_score\n",
    "\n",
    "print(cross_val_score(sk_linreg, X_train, y_train, cv=20, scoring='r2').mean())\n",
    "print(cross_val_score(sk_linreg, X_test, y_test, cv=20, scoring='r2').mean())"
   ]
  },
  {
   "cell_type": "code",
   "execution_count": 289,
   "metadata": {},
   "outputs": [],
   "source": [
    "X_train = (X_train - X_train.mean(axis=0))/X_train.std(axis=0)"
   ]
  },
  {
   "cell_type": "code",
   "execution_count": 290,
   "metadata": {},
   "outputs": [],
   "source": [
    "mvlr = MultiVariateLinearRegression(X_train, y_train)"
   ]
  },
  {
   "cell_type": "code",
   "execution_count": 291,
   "metadata": {},
   "outputs": [
    {
     "data": {
      "text/plain": [
       "0.866449810295517"
      ]
     },
     "execution_count": 291,
     "metadata": {},
     "output_type": "execute_result"
    }
   ],
   "source": [
    "mvlr.hypothesis(X_train[100])"
   ]
  },
  {
   "cell_type": "code",
   "execution_count": 292,
   "metadata": {},
   "outputs": [],
   "source": [
    "losses = [mvlr.loss()]"
   ]
  },
  {
   "cell_type": "code",
   "execution_count": 295,
   "metadata": {},
   "outputs": [
    {
     "name": "stdout",
     "output_type": "stream",
     "text": [
      "[-0.84514485  0.40395687 -0.68236524  0.92439856 -0.39231468  3.3543129\n",
      "  0.02863278 -0.85342343 -0.06775399  0.30890848 -1.53111662  0.71744047\n",
      " -2.71731372]\n",
      "19.823533034584788\n"
     ]
    },
    {
     "data": {
      "image/png": "[encoded data removed]",
      "text/plain": [
       "<Figure size 432x288 with 1 Axes>"
      ]
     },
     "metadata": {
      "needs_background": "light"
     },
     "output_type": "display_data"
    }
   ],
   "source": [
    "losses = mvlr.run(losses, 100)"
   ]
  },
  {
   "cell_type": "code",
   "execution_count": 296,
   "metadata": {},
   "outputs": [
    {
     "data": {
      "text/plain": [
       "(array([-0.83207666,  0.46845679, -0.60448443,  0.85896136, -0.66685825,\n",
       "         3.4396276 ,  0.03702161, -1.36839115,  0.20419398,  0.24536338,\n",
       "        -1.64997169,  0.82690124, -3.02055401]), 21.75210134019463)"
      ]
     },
     "execution_count": 296,
     "metadata": {},
     "output_type": "execute_result"
    }
   ],
   "source": [
    "mvlr.coef, mvlr.bias"
   ]
  },
  {
   "cell_type": "code",
   "execution_count": 297,
   "metadata": {},
   "outputs": [
    {
     "data": {
      "text/plain": [
       "(array([-1.53009909e-01,  5.48148721e-02,  5.15828828e-02,  2.24241738e+00,\n",
       "        -2.18748506e+01,  3.77072106e+00,  4.09022285e-03, -1.63773637e+00,\n",
       "         3.74206162e-01, -1.43979522e-02, -9.71418791e-01,  8.75483808e-03,\n",
       "        -5.06401852e-01]), 39.70730448007171)"
      ]
     },
     "execution_count": 297,
     "metadata": {},
     "output_type": "execute_result"
    }
   ],
   "source": [
    "sk_linreg.coef_, sk_linreg.intercept_"
   ]
  },
  {
   "cell_type": "code",
   "execution_count": 298,
   "metadata": {},
   "outputs": [
    {
     "name": "stdout",
     "output_type": "stream",
     "text": [
      "(500, 1) (500,) 38.165150479366325\n"
     ]
    }
   ],
   "source": [
    "X, y, cof = make_regression(n_samples=500, n_features=1, bias=4.2, noise=5.1, coef=True)\n",
    "print(X.shape, y.shape, cof)\n",
    "m1 = MultiVariateLinearRegression(X[:400], y[:400])"
   ]
  },
  {
   "cell_type": "code",
   "execution_count": 299,
   "metadata": {},
   "outputs": [],
   "source": [
    "losses = [m1.loss()]"
   ]
  },
  {
   "cell_type": "code",
   "execution_count": 302,
   "metadata": {},
   "outputs": [
    {
     "name": "stdout",
     "output_type": "stream",
     "text": [
      "[25.06811658]\n",
      "2.2978013761043385\n"
     ]
    },
    {
     "data": {
      "image/png": "[encoded data removed]",
      "text/plain": [
       "<Figure size 432x288 with 1 Axes>"
      ]
     },
     "metadata": {
      "needs_background": "light"
     },
     "output_type": "display_data"
    }
   ],
   "source": [
    "losses = m1.run(losses, 100)"
   ]
  },
  {
   "cell_type": "code",
   "execution_count": 303,
   "metadata": {},
   "outputs": [
    {
     "data": {
      "image/png": "[encoded data removed]",
      "text/plain": [
       "<Figure size 432x288 with 1 Axes>"
      ]
     },
     "metadata": {
      "needs_background": "light"
     },
     "output_type": "display_data"
    }
   ],
   "source": [
    "plt.figure()\n",
    "plt.scatter(X, y)\n",
    "plt.scatter(X[400:], m1.get_predictions(X[400:]))\n",
    "plt.show()"
   ]
  },
  {
   "cell_type": "code",
   "execution_count": null,
   "metadata": {},
   "outputs": [],
   "source": []
  }
 ],
 "metadata": {
  "kernelspec": {
   "display_name": "Python 3",
   "language": "python",
   "name": "python3"
  },
  "language_info": {
   "codemirror_mode": {
    "name": "ipython",
    "version": 3
   },
   "file_extension": ".py",
   "mimetype": "text/x-python",
   "name": "python",
   "nbconvert_exporter": "python",
   "pygments_lexer": "ipython3",
   "version": "3.7.0"
  }
 },
 "nbformat": 4,
 "nbformat_minor": 2
}
